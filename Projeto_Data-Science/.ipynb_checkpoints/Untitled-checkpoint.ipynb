{
 "cells": [
  {
   "cell_type": "markdown",
   "id": "0ff323f9",
   "metadata": {},
   "source": [
    "#1 = IMPORTANDO A BIBLIOTECA PANDAS, MATPLOTLIB E CARREGANDO O ARQUIVO QUE CONTÉM OS DADOS NO EXCEL."
   ]
  },
  {
   "cell_type": "code",
   "execution_count": 1,
   "id": "781845ac",
   "metadata": {},
   "outputs": [
    {
     "name": "stdout",
     "output_type": "stream",
     "text": [
      "               Linguagem 2021 2020 2019 2018 2017 2016 2015 2014 2013  ...  \\\n",
      "0                   Java    3    3    3    1    1    1    1    1    1  ...   \n",
      "1             JavaScript    7    7    2    2    2    2    2    2    2  ...   \n",
      "2                    PHP   10    8    5    5    5    4    4    4    3  ...   \n",
      "3                      C    2    1    7    7    7    7    7    7    8  ...   \n",
      "4                    C++    4    4    6    6    6    6    6    6    6  ...   \n",
      "5           Visual Basic    6    6    -    -    -    -    -    -    -  ...   \n",
      "6                   Perl    -    -    -    -    -    -    -    -    -  ...   \n",
      "7                     C#    5    5    4    4    4    5    5    5    5  ...   \n",
      "8                 Delphi    -    -    -    -    -    -    -    -    -  ...   \n",
      "9                 Python    1    2    1    3    3    3    3    3    4  ...   \n",
      "10                Pascal    -    -    -    -    -    -    -    -    -  ...   \n",
      "11                Matlab    -    -    -    -    -    -    -    -    -  ...   \n",
      "12                  Ruby    -    -    -   11   11   11   11   11    9  ...   \n",
      "13           Objective C    -    -   10   10    9    8    8    8    7  ...   \n",
      "14                 Swift    -    -    9    9   10   10    9    9   10  ...   \n",
      "15                     R    -    9    8    8    8    9   10   10   11  ...   \n",
      "16                Kotlin    -    -   11    -    -    -    -    -    -  ...   \n",
      "17                   SQL    9   10    -    -    -    -    -    -    -  ...   \n",
      "18                Groovy    -   11    -    -    -    -    -    -    -  ...   \n",
      "19              Assembly    8    -    -    -    -    -    -    -    -  ...   \n",
      "20  Classic Visual Basic   11    -    -    -    -    -    -    -    -  ...   \n",
      "\n",
      "   2011 2010 2009 2008 2007 2006 2005 2004 2003 2002  \n",
      "0     1    1    1    1    1    1    1    1    1    1  \n",
      "1     2    2    2    2    2    3    2    2    2    2  \n",
      "2     3    3    3    3    3    2    3    3    3    3  \n",
      "3     7    5    5    4    4    4    4    4    4    4  \n",
      "4     6    4    4    5    5    5    5    5    5    5  \n",
      "5    10    9    8    8    8    8    7    7    6    6  \n",
      "6     -    -    -   10    9    9    8    8    7    7  \n",
      "7     5    7    7    6    6    6    6    6    8    8  \n",
      "8     -    -    -    -    -    -    -   10   10    9  \n",
      "9     4    6    6    7    7    7    9    9    9   10  \n",
      "10    -    -    -    -    -    -    -   11   11   11  \n",
      "11   11   11   11   11   11   11   10    -    -    -  \n",
      "12    9   10    9    9   10   10   11    -    -    -  \n",
      "13    8    8   10    -    -    -    -    -    -    -  \n",
      "14    -    -    -    -    -    -    -    -    -    -  \n",
      "15    -    -    -    -    -    -    -    -    -    -  \n",
      "16    -    -    -    -    -    -    -    -    -    -  \n",
      "17    -    -    -    -    -    -    -    -    -    -  \n",
      "18    -    -    -    -    -    -    -    -    -    -  \n",
      "19    -    -    -    -    -    -    -    -    -    -  \n",
      "20    -    -    -    -    -    -    -    -    -    -  \n",
      "\n",
      "[21 rows x 21 columns]\n"
     ]
    }
   ],
   "source": [
    "import pandas as pd\n",
    "import matplotlib.pyplot as plt\n",
    "df = pd.read_excel(\"TrabalhoED.xlsx\")\n",
    "print(df)"
   ]
  },
  {
   "cell_type": "markdown",
   "id": "1c9b63b0",
   "metadata": {},
   "source": [
    "#2 = CRIANDO UMA VARIÁVEL mais_subiram PARA ARMAZENAR SOMENTE AS COLUNAS \"LINGUAGEM E 2021\" QUE SE REFEREM AS LINGUAGENS QUE MAIS SUBIRAM."
   ]
  },
  {
   "cell_type": "code",
   "execution_count": 2,
   "id": "fd60c548",
   "metadata": {
    "scrolled": false
   },
   "outputs": [
    {
     "name": "stdout",
     "output_type": "stream",
     "text": [
      "               Linguagem 2021\n",
      "0                   Java    3\n",
      "1             JavaScript    7\n",
      "2                    PHP   10\n",
      "3                      C    2\n",
      "4                    C++    4\n",
      "5           Visual Basic    6\n",
      "6                   Perl    -\n",
      "7                     C#    5\n",
      "8                 Delphi    -\n",
      "9                 Python    1\n",
      "10                Pascal    -\n",
      "11                Matlab    -\n",
      "12                  Ruby    -\n",
      "13           Objective C    -\n",
      "14                 Swift    -\n",
      "15                     R    -\n",
      "16                Kotlin    -\n",
      "17                   SQL    9\n",
      "18                Groovy    -\n",
      "19              Assembly    8\n",
      "20  Classic Visual Basic   11\n"
     ]
    }
   ],
   "source": [
    "mais_subiram = df.loc[:,\"Linguagem\":2021]\n",
    "print(mais_subiram)"
   ]
  },
  {
   "cell_type": "markdown",
   "id": "12ba3486",
   "metadata": {},
   "source": [
    "#3 = EXCLUINDO AS LINHAS DAS LINGUAGENS QUE NÃO SUBIRAM E ARMAZENANDO O RESTANTE DAS INFORMAÇÕES DENTRO DA PRÓRIA VARIÁVEL mais_subiram."
   ]
  },
  {
   "cell_type": "code",
   "execution_count": 3,
   "id": "6e97c899",
   "metadata": {},
   "outputs": [
    {
     "name": "stdout",
     "output_type": "stream",
     "text": [
      "               Linguagem 2021\n",
      "0                   Java    3\n",
      "1             JavaScript    7\n",
      "2                    PHP   10\n",
      "3                      C    2\n",
      "4                    C++    4\n",
      "5           Visual Basic    6\n",
      "7                     C#    5\n",
      "9                 Python    1\n",
      "17                   SQL    9\n",
      "19              Assembly    8\n",
      "20  Classic Visual Basic   11\n"
     ]
    }
   ],
   "source": [
    "mais_subiram = mais_subiram.drop([6,8,10,11,12,13,14,15,16,18])\n",
    "print(mais_subiram)"
   ]
  },
  {
   "cell_type": "markdown",
   "id": "bd925d6b",
   "metadata": {},
   "source": [
    "#4 = ORDENANDO OS VALORES E ARMAZENANDO NA VARIÁVEL mais_subiram."
   ]
  },
  {
   "cell_type": "code",
   "execution_count": 4,
   "id": "d6f82edd",
   "metadata": {
    "scrolled": false
   },
   "outputs": [
    {
     "name": "stdout",
     "output_type": "stream",
     "text": [
      "               Linguagem 2021\n",
      "9                 Python    1\n",
      "3                      C    2\n",
      "0                   Java    3\n",
      "4                    C++    4\n",
      "7                     C#    5\n",
      "5           Visual Basic    6\n",
      "1             JavaScript    7\n",
      "19              Assembly    8\n",
      "17                   SQL    9\n",
      "2                    PHP   10\n",
      "20  Classic Visual Basic   11\n"
     ]
    }
   ],
   "source": [
    "mais_subiram = mais_subiram.sort_values(2021)\n",
    "print(mais_subiram)"
   ]
  },
  {
   "cell_type": "markdown",
   "id": "ad539ae5",
   "metadata": {},
   "source": [
    "#5 = CRIANDO UMA NOVA VARIÁVEL mais_cairam E SELECIONANDO SOMENTE AS COLUNAS \"LINGUAGEM E 2021\" PARA EXTRAIR AS INFORMAÇÕES DAS QUE MAIS CAÍRAM. "
   ]
  },
  {
   "cell_type": "code",
   "execution_count": 5,
   "id": "27bfabb4",
   "metadata": {
    "scrolled": false
   },
   "outputs": [
    {
     "name": "stdout",
     "output_type": "stream",
     "text": [
      "               Linguagem 2021\n",
      "0                   Java    3\n",
      "1             JavaScript    7\n",
      "2                    PHP   10\n",
      "3                      C    2\n",
      "4                    C++    4\n",
      "5           Visual Basic    6\n",
      "6                   Perl    -\n",
      "7                     C#    5\n",
      "8                 Delphi    -\n",
      "9                 Python    1\n",
      "10                Pascal    -\n",
      "11                Matlab    -\n",
      "12                  Ruby    -\n",
      "13           Objective C    -\n",
      "14                 Swift    -\n",
      "15                     R    -\n",
      "16                Kotlin    -\n",
      "17                   SQL    9\n",
      "18                Groovy    -\n",
      "19              Assembly    8\n",
      "20  Classic Visual Basic   11\n"
     ]
    }
   ],
   "source": [
    "mais_cairam = df.loc[:,\"Linguagem\":2021]\n",
    "print(mais_cairam)"
   ]
  },
  {
   "cell_type": "markdown",
   "id": "036d3960",
   "metadata": {},
   "source": [
    "#6 = NESTE PASSO EU FIZ O CONTRÁRIO DA OUTRA, EU SIMPLESMENTE EXCLUI AS LINHAS QUE CONTINHAM AS LINGUAGENS QUE MAIS SUBIRAM, COM ISSO SOBROU AS QUE MAIS CAÍRAM."
   ]
  },
  {
   "cell_type": "code",
   "execution_count": 6,
   "id": "a02b0857",
   "metadata": {},
   "outputs": [
    {
     "name": "stdout",
     "output_type": "stream",
     "text": [
      "      Linguagem 2021\n",
      "6          Perl    -\n",
      "8        Delphi    -\n",
      "10       Pascal    -\n",
      "11       Matlab    -\n",
      "12         Ruby    -\n",
      "13  Objective C    -\n",
      "14        Swift    -\n",
      "15            R    -\n",
      "16       Kotlin    -\n",
      "18       Groovy    -\n"
     ]
    }
   ],
   "source": [
    "mais_cairam = mais_cairam.drop([0,1,2,3,4,5,7,9,17,19,20])\n",
    "print(mais_cairam)"
   ]
  },
  {
   "cell_type": "markdown",
   "id": "5844d4f7",
   "metadata": {},
   "source": [
    "#7 = CRIEI UMA LISTA PARA ARMAZENAR AS LINGUAGENS QUE MAIS CRESCERAM.\n",
    "APÓS TER CRIADO A LISTA, EU CRIEI UM NOVO DATA FRAME COM AS INFORMAÇÕES ARMAZENADAS NA listaMC.\n",
    "DEPOIS EU MUDEI O NOME PADRÃO DA COLUNA QUE É \"0\" PARA \"LINGUAGENS\"."
   ]
  },
  {
   "cell_type": "code",
   "execution_count": 7,
   "id": "bc10bbf2",
   "metadata": {},
   "outputs": [
    {
     "name": "stdout",
     "output_type": "stream",
     "text": [
      "             LINGUAGENS\n",
      "0                     C\n",
      "1                   C++\n",
      "2          Visual Basic\n",
      "3              Assembly\n",
      "4  Classic Visual Basic\n",
      "5                Python\n"
     ]
    }
   ],
   "source": [
    "listaMC = [\"C\",\"C++\",\"Visual Basic\",\"Assembly\",\"Classic Visual Basic\",\"Python\"]\n",
    "mais_cresceram = pd.DataFrame(listaMC)\n",
    "mais_cresceram=mais_cresceram.rename(columns={0: \"LINGUAGENS\"})\n",
    "print(mais_cresceram)"
   ]
  },
  {
   "cell_type": "markdown",
   "id": "bea80db0",
   "metadata": {},
   "source": [
    "#8 = AQUI EU CRIEI UMA LISTA COM AS LINGUAGENS MAIS USADAS DE ACORDO COM UM SITE PARA NÃO USAR A MESMA INFORMAÇÃO DAS QUE MAIS SUBIRAM. \n",
    "APÓS EU CRIEI 4 DATA FRAMES DAS MAIS BUSCADAS, MAIS SUBIRAM, MAIS CAÍRAM E MAIS CRESCERAM PARA QUE NO FIM DO CÓDIGO EU POSSA SALVAR OS DADOS EM PLANILHAS DO EXCEL."
   ]
  },
  {
   "cell_type": "code",
   "execution_count": 8,
   "id": "937ba6bb",
   "metadata": {},
   "outputs": [
    {
     "name": "stdout",
     "output_type": "stream",
     "text": [
      "               Linguagem 2021 2020 2019 2018 2017 2016 2015 2014 2013  ...  \\\n",
      "0                   Java    3    3    3    1    1    1    1    1    1  ...   \n",
      "1             JavaScript    7    7    2    2    2    2    2    2    2  ...   \n",
      "2                    PHP   10    8    5    5    5    4    4    4    3  ...   \n",
      "3                      C    2    1    7    7    7    7    7    7    8  ...   \n",
      "4                    C++    4    4    6    6    6    6    6    6    6  ...   \n",
      "5           Visual Basic    6    6    -    -    -    -    -    -    -  ...   \n",
      "6                   Perl    -    -    -    -    -    -    -    -    -  ...   \n",
      "7                     C#    5    5    4    4    4    5    5    5    5  ...   \n",
      "8                 Delphi    -    -    -    -    -    -    -    -    -  ...   \n",
      "9                 Python    1    2    1    3    3    3    3    3    4  ...   \n",
      "10                Pascal    -    -    -    -    -    -    -    -    -  ...   \n",
      "11                Matlab    -    -    -    -    -    -    -    -    -  ...   \n",
      "12                  Ruby    -    -    -   11   11   11   11   11    9  ...   \n",
      "13           Objective C    -    -   10   10    9    8    8    8    7  ...   \n",
      "14                 Swift    -    -    9    9   10   10    9    9   10  ...   \n",
      "15                     R    -    9    8    8    8    9   10   10   11  ...   \n",
      "16                Kotlin    -    -   11    -    -    -    -    -    -  ...   \n",
      "17                   SQL    9   10    -    -    -    -    -    -    -  ...   \n",
      "18                Groovy    -   11    -    -    -    -    -    -    -  ...   \n",
      "19              Assembly    8    -    -    -    -    -    -    -    -  ...   \n",
      "20  Classic Visual Basic   11    -    -    -    -    -    -    -    -  ...   \n",
      "\n",
      "   2011 2010 2009 2008 2007 2006 2005 2004 2003 2002  \n",
      "0     1    1    1    1    1    1    1    1    1    1  \n",
      "1     2    2    2    2    2    3    2    2    2    2  \n",
      "2     3    3    3    3    3    2    3    3    3    3  \n",
      "3     7    5    5    4    4    4    4    4    4    4  \n",
      "4     6    4    4    5    5    5    5    5    5    5  \n",
      "5    10    9    8    8    8    8    7    7    6    6  \n",
      "6     -    -    -   10    9    9    8    8    7    7  \n",
      "7     5    7    7    6    6    6    6    6    8    8  \n",
      "8     -    -    -    -    -    -    -   10   10    9  \n",
      "9     4    6    6    7    7    7    9    9    9   10  \n",
      "10    -    -    -    -    -    -    -   11   11   11  \n",
      "11   11   11   11   11   11   11   10    -    -    -  \n",
      "12    9   10    9    9   10   10   11    -    -    -  \n",
      "13    8    8   10    -    -    -    -    -    -    -  \n",
      "14    -    -    -    -    -    -    -    -    -    -  \n",
      "15    -    -    -    -    -    -    -    -    -    -  \n",
      "16    -    -    -    -    -    -    -    -    -    -  \n",
      "17    -    -    -    -    -    -    -    -    -    -  \n",
      "18    -    -    -    -    -    -    -    -    -    -  \n",
      "19    -    -    -    -    -    -    -    -    -    -  \n",
      "20    -    -    -    -    -    -    -    -    -    -  \n",
      "\n",
      "[21 rows x 21 columns]             0\n",
      "0        Java\n",
      "1      Python\n",
      "2  JavaScript\n",
      "3         C++\n",
      "4          C#\n",
      "5         PHP\n",
      "6        Perl\n",
      "7       Swift\n",
      "8           R\n",
      "9         SQL                Linguagem 2021\n",
      "9                 Python    1\n",
      "3                      C    2\n",
      "0                   Java    3\n",
      "4                    C++    4\n",
      "7                     C#    5\n",
      "5           Visual Basic    6\n",
      "1             JavaScript    7\n",
      "19              Assembly    8\n",
      "17                   SQL    9\n",
      "2                    PHP   10\n",
      "20  Classic Visual Basic   11       Linguagem 2021\n",
      "6          Perl    -\n",
      "8        Delphi    -\n",
      "10       Pascal    -\n",
      "11       Matlab    -\n",
      "12         Ruby    -\n",
      "13  Objective C    -\n",
      "14        Swift    -\n",
      "15            R    -\n",
      "16       Kotlin    -\n",
      "18       Groovy    -              LINGUAGENS\n",
      "0                     C\n",
      "1                   C++\n",
      "2          Visual Basic\n",
      "3              Assembly\n",
      "4  Classic Visual Basic\n",
      "5                Python\n"
     ]
    }
   ],
   "source": [
    "mais_buscadas = [\"Java\",\"Python\",\"JavaScript\",\"C++\",\"C#\",\"PHP\",\"Perl\",\"Swift\",\"R\",\"SQL\"]\n",
    "df2 = pd.DataFrame(mais_buscadas)\n",
    "df3 = pd.DataFrame(mais_subiram.sort_values(2021))\n",
    "df4 = pd.DataFrame(mais_cairam)\n",
    "df5 = pd.DataFrame(mais_cresceram)\n",
    "print(df,df2,df3,df4,df5)"
   ]
  },
  {
   "cell_type": "markdown",
   "id": "14aae6da",
   "metadata": {},
   "source": [
    "#9 = CRIEI 3 LISTAS DE 3 ANOS COM AS POSIÇOES DAS LINGUAGENS QUE MAIS CRESCERAM. \n",
    "LOGO CRIEI 3 COLUNAS, PARA CADA COLUNA EU COLOQUEI UM ANO EX:  Coluna1 \"LINGUAGENS\", Coluna2 \"2021\",  Coluna3 \"2020\",   Coluna 4 \"2019\"."
   ]
  },
  {
   "cell_type": "code",
   "execution_count": 9,
   "id": "1161f533",
   "metadata": {},
   "outputs": [
    {
     "name": "stdout",
     "output_type": "stream",
     "text": [
      "             LINGUAGENS  2021 2020 2019\n",
      "0                     C     2    1    7\n",
      "1                   C++     4    4    6\n",
      "2          Visual Basic     6    6    -\n",
      "3              Assembly     8    -    -\n",
      "4  Classic Visual Basic    11    -    -\n",
      "5                Python     1    2    1\n"
     ]
    }
   ],
   "source": [
    "lista2021 = [2,4,6,8,11,1]\n",
    "lista2020 = [1,4,6,\"-\",\"-\",2]\n",
    "lista2019 = [7,6,\"-\",\"-\",\"-\",1]\n",
    "mais_cresceram[\"2021\"] = lista2021\n",
    "mais_cresceram[\"2020\"] = lista2020\n",
    "mais_cresceram[\"2019\"] = lista2019\n",
    "print(mais_cresceram)"
   ]
  },
  {
   "cell_type": "markdown",
   "id": "4a33c537",
   "metadata": {},
   "source": [
    "#10 = USEI O MÉTODO JOIN PARA UNIR O DATA FRAME DAS QUE MAIS CRESCERAM COM O DATA FRAME PRINCIPAL QUE CONTEM TODAS AS LINGUAGENS E MUDEI O NOME DA COLUNA PADRÃO PARA MAIS_BUSCADAS."
   ]
  },
  {
   "cell_type": "code",
   "execution_count": 10,
   "id": "81675503",
   "metadata": {
    "scrolled": false
   },
   "outputs": [
    {
     "name": "stdout",
     "output_type": "stream",
     "text": [
      "               Linguagem 2021 2020 2019 2018 2017 2016 2015 2014 2013  ...  \\\n",
      "0                   Java    3    3    3    1    1    1    1    1    1  ...   \n",
      "1             JavaScript    7    7    2    2    2    2    2    2    2  ...   \n",
      "2                    PHP   10    8    5    5    5    4    4    4    3  ...   \n",
      "3                      C    2    1    7    7    7    7    7    7    8  ...   \n",
      "4                    C++    4    4    6    6    6    6    6    6    6  ...   \n",
      "5           Visual Basic    6    6    -    -    -    -    -    -    -  ...   \n",
      "6                   Perl    -    -    -    -    -    -    -    -    -  ...   \n",
      "7                     C#    5    5    4    4    4    5    5    5    5  ...   \n",
      "8                 Delphi    -    -    -    -    -    -    -    -    -  ...   \n",
      "9                 Python    1    2    1    3    3    3    3    3    4  ...   \n",
      "10                Pascal    -    -    -    -    -    -    -    -    -  ...   \n",
      "11                Matlab    -    -    -    -    -    -    -    -    -  ...   \n",
      "12                  Ruby    -    -    -   11   11   11   11   11    9  ...   \n",
      "13           Objective C    -    -   10   10    9    8    8    8    7  ...   \n",
      "14                 Swift    -    -    9    9   10   10    9    9   10  ...   \n",
      "15                     R    -    9    8    8    8    9   10   10   11  ...   \n",
      "16                Kotlin    -    -   11    -    -    -    -    -    -  ...   \n",
      "17                   SQL    9   10    -    -    -    -    -    -    -  ...   \n",
      "18                Groovy    -   11    -    -    -    -    -    -    -  ...   \n",
      "19              Assembly    8    -    -    -    -    -    -    -    -  ...   \n",
      "20  Classic Visual Basic   11    -    -    -    -    -    -    -    -  ...   \n",
      "\n",
      "   2010 2009 2008 2007 2006 2005 2004 2003 2002 Mais_buscadas  \n",
      "0     1    1    1    1    1    1    1    1    1          Java  \n",
      "1     2    2    2    2    3    2    2    2    2        Python  \n",
      "2     3    3    3    3    2    3    3    3    3    JavaScript  \n",
      "3     5    5    4    4    4    4    4    4    4           C++  \n",
      "4     4    4    5    5    5    5    5    5    5            C#  \n",
      "5     9    8    8    8    8    7    7    6    6           PHP  \n",
      "6     -    -   10    9    9    8    8    7    7          Perl  \n",
      "7     7    7    6    6    6    6    6    8    8         Swift  \n",
      "8     -    -    -    -    -    -   10   10    9             R  \n",
      "9     6    6    7    7    7    9    9    9   10           SQL  \n",
      "10    -    -    -    -    -    -   11   11   11           NaN  \n",
      "11   11   11   11   11   11   10    -    -    -           NaN  \n",
      "12   10    9    9   10   10   11    -    -    -           NaN  \n",
      "13    8   10    -    -    -    -    -    -    -           NaN  \n",
      "14    -    -    -    -    -    -    -    -    -           NaN  \n",
      "15    -    -    -    -    -    -    -    -    -           NaN  \n",
      "16    -    -    -    -    -    -    -    -    -           NaN  \n",
      "17    -    -    -    -    -    -    -    -    -           NaN  \n",
      "18    -    -    -    -    -    -    -    -    -           NaN  \n",
      "19    -    -    -    -    -    -    -    -    -           NaN  \n",
      "20    -    -    -    -    -    -    -    -    -           NaN  \n",
      "\n",
      "[21 rows x 22 columns]\n"
     ]
    }
   ],
   "source": [
    "join_esq = df.join(df2)\n",
    "join_esq.rename(columns={0: \"Mais_buscadas\"},inplace=True)\n",
    "print(join_esq)"
   ]
  },
  {
   "cell_type": "code",
   "execution_count": 11,
   "id": "907d1164",
   "metadata": {},
   "outputs": [
    {
     "name": "stdout",
     "output_type": "stream",
     "text": [
      "               Linguagem 2021 2020 2019 2018 2017 2016 2015 2014 2013  ...  \\\n",
      "0                   Java    3    3    3    1    1    1    1    1    1  ...   \n",
      "1             JavaScript    7    7    2    2    2    2    2    2    2  ...   \n",
      "2                    PHP   10    8    5    5    5    4    4    4    3  ...   \n",
      "3                      C    2    1    7    7    7    7    7    7    8  ...   \n",
      "4                    C++    4    4    6    6    6    6    6    6    6  ...   \n",
      "5           Visual Basic    6    6    -    -    -    -    -    -    -  ...   \n",
      "6                   Perl    -    -    -    -    -    -    -    -    -  ...   \n",
      "7                     C#    5    5    4    4    4    5    5    5    5  ...   \n",
      "8                 Delphi    -    -    -    -    -    -    -    -    -  ...   \n",
      "9                 Python    1    2    1    3    3    3    3    3    4  ...   \n",
      "10                Pascal    -    -    -    -    -    -    -    -    -  ...   \n",
      "11                Matlab    -    -    -    -    -    -    -    -    -  ...   \n",
      "12                  Ruby    -    -    -   11   11   11   11   11    9  ...   \n",
      "13           Objective C    -    -   10   10    9    8    8    8    7  ...   \n",
      "14                 Swift    -    -    9    9   10   10    9    9   10  ...   \n",
      "15                     R    -    9    8    8    8    9   10   10   11  ...   \n",
      "16                Kotlin    -    -   11    -    -    -    -    -    -  ...   \n",
      "17                   SQL    9   10    -    -    -    -    -    -    -  ...   \n",
      "18                Groovy    -   11    -    -    -    -    -    -    -  ...   \n",
      "19              Assembly    8    -    -    -    -    -    -    -    -  ...   \n",
      "20  Classic Visual Basic   11    -    -    -    -    -    -    -    -  ...   \n",
      "\n",
      "   2010 2009 2008 2007 2006 2005 2004 2003 2002 Mais_buscadas  \n",
      "0     1    1    1    1    1    1    1    1    1          Java  \n",
      "1     2    2    2    2    3    2    2    2    2        Python  \n",
      "2     3    3    3    3    2    3    3    3    3    JavaScript  \n",
      "3     5    5    4    4    4    4    4    4    4           C++  \n",
      "4     4    4    5    5    5    5    5    5    5            C#  \n",
      "5     9    8    8    8    8    7    7    6    6           PHP  \n",
      "6     -    -   10    9    9    8    8    7    7          Perl  \n",
      "7     7    7    6    6    6    6    6    8    8         Swift  \n",
      "8     -    -    -    -    -    -   10   10    9             R  \n",
      "9     6    6    7    7    7    9    9    9   10           SQL  \n",
      "10    -    -    -    -    -    -   11   11   11           NaN  \n",
      "11   11   11   11   11   11   10    -    -    -           NaN  \n",
      "12   10    9    9   10   10   11    -    -    -           NaN  \n",
      "13    8   10    -    -    -    -    -    -    -           NaN  \n",
      "14    -    -    -    -    -    -    -    -    -           NaN  \n",
      "15    -    -    -    -    -    -    -    -    -           NaN  \n",
      "16    -    -    -    -    -    -    -    -    -           NaN  \n",
      "17    -    -    -    -    -    -    -    -    -           NaN  \n",
      "18    -    -    -    -    -    -    -    -    -           NaN  \n",
      "19    -    -    -    -    -    -    -    -    -           NaN  \n",
      "20    -    -    -    -    -    -    -    -    -           NaN  \n",
      "\n",
      "[21 rows x 22 columns]\n"
     ]
    }
   ],
   "source": [
    "df = join_esq.rename(columns={0: \"Mais_buscadas\"})\n",
    "print(df)"
   ]
  },
  {
   "cell_type": "markdown",
   "id": "0a68f66b",
   "metadata": {},
   "source": [
    "#11 = CRIEI UMA VARIÁVEL PARA ARMAZENAR AS COLUNAS \"2002 E MAIS_BUSCADAS\""
   ]
  },
  {
   "cell_type": "code",
   "execution_count": 12,
   "id": "5525cf9c",
   "metadata": {},
   "outputs": [
    {
     "name": "stdout",
     "output_type": "stream",
     "text": [
      "   2002 Mais_buscadas\n",
      "0     1          Java\n",
      "1     2        Python\n",
      "2     3    JavaScript\n",
      "3     4           C++\n",
      "4     5            C#\n",
      "5     6           PHP\n",
      "6     7          Perl\n",
      "7     8         Swift\n",
      "8     9             R\n",
      "9    10           SQL\n",
      "10   11           NaN\n",
      "11    -           NaN\n",
      "12    -           NaN\n",
      "13    -           NaN\n",
      "14    -           NaN\n",
      "15    -           NaN\n",
      "16    -           NaN\n",
      "17    -           NaN\n",
      "18    -           NaN\n",
      "19    -           NaN\n",
      "20    -           NaN\n"
     ]
    }
   ],
   "source": [
    "mais_buscadas = df.loc[:,2002: \"Mais_buscadas\"]\n",
    "print(mais_buscadas)"
   ]
  },
  {
   "cell_type": "markdown",
   "id": "29e29344",
   "metadata": {},
   "source": [
    "#12 = USEI O MÉTODO .DROP PARA APAGAR AS LINHAS QUE ESTAVAM COM VALORES NaN."
   ]
  },
  {
   "cell_type": "code",
   "execution_count": 13,
   "id": "682806ca",
   "metadata": {
    "scrolled": false
   },
   "outputs": [
    {
     "name": "stdout",
     "output_type": "stream",
     "text": [
      "  2002 Mais_buscadas\n",
      "0    1          Java\n",
      "1    2        Python\n",
      "2    3    JavaScript\n",
      "3    4           C++\n",
      "4    5            C#\n",
      "5    6           PHP\n",
      "6    7          Perl\n",
      "7    8         Swift\n",
      "8    9             R\n",
      "9   10           SQL\n"
     ]
    }
   ],
   "source": [
    "mais_buscadas = mais_buscadas.drop([10,11,12,13,14,15,16,17,18,19,20])\n",
    "print(mais_buscadas)"
   ]
  },
  {
   "cell_type": "markdown",
   "id": "15345298",
   "metadata": {},
   "source": [
    "#13 AQUI EU CRIEI UMA ÁREA PARA O USUÁRIO INTERAGIR E PESQUISAR CONFORME ALGUNS CRITÉRIOS. \n",
    "ELE PODE PESQUISAR QUANTAS VEZES QUISER ENQUANTO A RESPOSTA FOR \"S\"."
   ]
  },
  {
   "cell_type": "code",
   "execution_count": 14,
   "id": "627010f1",
   "metadata": {
    "scrolled": false
   },
   "outputs": [
    {
     "name": "stdout",
     "output_type": "stream",
     "text": [
      "Deseja entrar no programa? (S/N) \n",
      "S\n",
      "Escolha uma opção: 1 - Analisar as linguagens que mais subiram | 2 - Analisar as linguagens que mais caíram | 3 - Analisar as linguagens mais buscadas | 4 - Analisar as linguagens que mais subiram em um curto período de tempo | 5 - Analisar o ranking completo\n",
      "1\n",
      "AS LINGUAGENS QUE MAIS SUBIRAM: \n",
      "                Linguagem 2021\n",
      "9                 Python    1\n",
      "3                      C    2\n",
      "0                   Java    3\n",
      "4                    C++    4\n",
      "7                     C#    5\n",
      "5           Visual Basic    6\n",
      "1             JavaScript    7\n",
      "19              Assembly    8\n",
      "17                   SQL    9\n",
      "2                    PHP   10\n",
      "20  Classic Visual Basic   11\n",
      "Deseja continuar pesquisando? [S/N]S\n",
      "Escolha uma opção: 1 - Analisar as linguagens que mais subiram | 2 - Analisar as linguagens que mais caíram | 3 - Analisar as linguagens mais buscadas | 4 - Analisar as linguagens que mais subiram em um curto período de tempo | 5 - Analisar o ranking completo\n",
      "2\n",
      "AS LINGUAGENS QUE MAIS CAÍRAM: \n",
      "       Linguagem 2021\n",
      "6          Perl    -\n",
      "8        Delphi    -\n",
      "10       Pascal    -\n",
      "11       Matlab    -\n",
      "12         Ruby    -\n",
      "13  Objective C    -\n",
      "14        Swift    -\n",
      "15            R    -\n",
      "16       Kotlin    -\n",
      "18       Groovy    -\n",
      "Deseja continuar pesquisando? [S/N]N\n"
     ]
    }
   ],
   "source": [
    "\n",
    "print(\"Deseja entrar no programa? (S/N) \")\n",
    "resp = str(input(\"\"))\n",
    "\n",
    "\n",
    "while resp == \"S\" or resp == \"s\":\n",
    "\n",
    "    \n",
    "    print(\"Escolha uma opção: 1 - Analisar as linguagens que mais subiram | 2 - Analisar as linguagens que mais caíram | 3 - Analisar as linguagens mais buscadas | 4 - Analisar as linguagens que mais subiram em um curto período de tempo | 5 - Analisar o ranking completo\")\n",
    "    escolher = str(input(\"\"))\n",
    "    \n",
    "    if escolher == \"1\":\n",
    "        print('AS LINGUAGENS QUE MAIS SUBIRAM: \\n',mais_subiram)\n",
    "    elif escolher == \"2\":\n",
    "        print('AS LINGUAGENS QUE MAIS CAÍRAM: \\n',mais_cairam)\n",
    "    elif escolher == \"3\":\n",
    "        print('AS LINGUAGENS QUE FORAM MAIS BUSCADAS: \\n',mais_buscadas)\n",
    "    elif escolher == \"4\":\n",
    "        print('AS LINGUAGENS QUE MAIS SUBIRAM EM UM CURTO PERÍODO DE TEMPO: \\n',mais_cresceram)\n",
    "    elif escolher == \"5\":\n",
    "        print('RANKING COMPLETO: \\n',df)\n",
    "    else:\n",
    "        print(\"A opção informada é inexistente\")\n",
    "\n",
    "    resp = str(input(\"Deseja continuar pesquisando? [S/N]\"))\n",
    "        "
   ]
  },
  {
   "cell_type": "markdown",
   "id": "ae801d08",
   "metadata": {},
   "source": [
    "#14 = GRÁFICO DE LINHA PARA VER O DESEMPENHO DA LINGUAGEM PYTHON AO LONGO DOS ANOS"
   ]
  },
  {
   "cell_type": "code",
   "execution_count": 87,
   "id": "bc58eba8",
   "metadata": {},
   "outputs": [
    {
     "name": "stdout",
     "output_type": "stream",
     "text": [
      "Desempenho da Linguagem Python ao longo dos anos em gráfico de linha: \n"
     ]
    },
    {
     "data": {
      "image/png": "[encoded data removed]",
      "text/plain": [
       "<Figure size 432x288 with 1 Axes>"
      ]
     },
     "metadata": {
      "needs_background": "light"
     },
     "output_type": "display_data"
    }
   ],
   "source": [
    "Ano = [2002,2003,2004,2005,2006,2007,2008,2009,2010,2011,2012,2013,2014,2015,2016,2017,2018,2019,2020,2021]\n",
    "Pos = [10,9,9,9,7,7,7,6,6,4,4,4,3,3,3,3,3,1,2,1]\n",
    "\n",
    "print(\"Desempenho da Linguagem Python ao longo dos anos em gráfico de linha: \")\n",
    "plt.plot(Ano,Pos)\n",
    "plt.show()\n"
   ]
  },
  {
   "cell_type": "markdown",
   "id": "aaa253c7",
   "metadata": {},
   "source": [
    "#15 = GRÁFICO DE PONTOS COM OS MESMOS DADOS SOBRE A LINGUAGEM PYTHON"
   ]
  },
  {
   "cell_type": "code",
   "execution_count": 116,
   "id": "982cdfa3",
   "metadata": {
    "scrolled": true
   },
   "outputs": [
    {
     "name": "stdout",
     "output_type": "stream",
     "text": [
      "Desempenho da Linguagem Python ao longo dos anos em gráfico de pontos: \n"
     ]
    },
    {
     "data": {
      "image/png": "[encoded data removed]",
      "text/plain": [
       "<Figure size 432x288 with 1 Axes>"
      ]
     },
     "metadata": {
      "needs_background": "light"
     },
     "output_type": "display_data"
    }
   ],
   "source": [
    "Ano = [2002,2003,2004,2005,2006,2007,2008,2009,2010,2011,2012,2013,2014,2015,2016,2017,2018,2019,2020,2021]\n",
    "Pos = [10,9,9,9,7,7,7,6,6,4,4,4,3,3,3,3,3,1,2,1]\n",
    "\n",
    "print(\"Desempenho da Linguagem Python ao longo dos anos em gráfico de pontos: \")\n",
    "plt.scatter(Ano,Pos)\n",
    "\n",
    "\n",
    "plt.show()"
   ]
  },
  {
   "cell_type": "markdown",
   "id": "c9c2bcce",
   "metadata": {},
   "source": [
    "#16 = GRÁFICO DE PIZZA DAS LINGUAGENS MAIS BUSCADAS"
   ]
  },
  {
   "cell_type": "code",
   "execution_count": 74,
   "id": "86961bba",
   "metadata": {},
   "outputs": [
    {
     "name": "stdout",
     "output_type": "stream",
     "text": [
      "Gráfico das linguagens mais buscadas:\n"
     ]
    },
    {
     "data": {
      "image/png": "[encoded data removed]",
      "text/plain": [
       "<Figure size 432x288 with 1 Axes>"
      ]
     },
     "metadata": {},
     "output_type": "display_data"
    }
   ],
   "source": [
    "list_mais_buscadas = [\"Java\",\"Pyhon\",\"JavaScript\",\"C++\",\"C#\",\"PHP\",\"Perl\",\"Swift\",\"R\",\"SQL\"]\n",
    "porc_mais_buscadas = [10.0,25.0,20.0,10.0,7.0,9.0,6.0,3.0,4.0,6.0,]\n",
    "\n",
    "mais_buscadas[\"Percentagem\"] = porc_mais_buscadas\n",
    "\n",
    "plt.pie(mais_buscadas[\"Percentagem\"],labels=mais_buscadas[\"Mais_buscadas\"])\n",
    "\n",
    "\n",
    "print(\"Gráfico das linguagens mais buscadas:\")\n",
    "plt.show()"
   ]
  },
  {
   "cell_type": "markdown",
   "id": "b24dae40",
   "metadata": {},
   "source": [
    "#17 = AQUI EU ESTOU SALVANDO OS DADOS EM PLANILHAS DO EXCEL E FINALIZANDO O PROJETO."
   ]
  },
  {
   "cell_type": "code",
   "execution_count": 15,
   "id": "8f3e19ee",
   "metadata": {},
   "outputs": [],
   "source": [
    "df.to_excel(\"RANKING COMPLETO.xlsx\")\n",
    "df2.to_excel(\"MAIS BUSCADAS.xlsx\")\n",
    "df3.to_excel(\"MAIS SUBIRAM.xlsx\")\n",
    "df4.to_excel(\"MAIS CAIRAM.xlsx\")\n",
    "df5.to_excel(\"MAIS CRESCERAM.xlsx\")"
   ]
  }
 ],
 "metadata": {
  "kernelspec": {
   "display_name": "Python 3 (ipykernel)",
   "language": "python",
   "name": "python3"
  },
  "language_info": {
   "codemirror_mode": {
    "name": "ipython",
    "version": 3
   },
   "file_extension": ".py",
   "mimetype": "text/x-python",
   "name": "python",
   "nbconvert_exporter": "python",
   "pygments_lexer": "ipython3",
   "version": "3.9.7"
  }
 },
 "nbformat": 4,
 "nbformat_minor": 5
}
